{
  "nbformat": 4,
  "nbformat_minor": 0,
  "metadata": {
    "colab": {
      "name": "Exercise2_Course1",
      "provenance": [],
      "authorship_tag": "ABX9TyPkIR7SixRxCvUlRLMpn4v2",
      "include_colab_link": true
    },
    "kernelspec": {
      "name": "python3",
      "display_name": "Python 3"
    },
    "language_info": {
      "name": "python"
    }
  },
  "cells": [
    {
      "cell_type": "markdown",
      "metadata": {
        "id": "view-in-github",
        "colab_type": "text"
      },
      "source": [
        "<a href=\"https://colab.research.google.com/github/KoreanAImaster/Tensorflow/blob/main/Exercise2_Course1.ipynb\" target=\"_parent\"><img src=\"https://colab.research.google.com/assets/colab-badge.svg\" alt=\"Open In Colab\"/></a>"
      ]
    },
    {
      "cell_type": "code",
      "metadata": {
        "colab": {
          "base_uri": "https://localhost:8080/"
        },
        "id": "9_LjrBNeK9Jm",
        "outputId": "4983078b-60fd-4532-d8d2-c1192cd531a6"
      },
      "source": [
        "# 컴퓨터 비전\n",
        "\n",
        "# 텐서플로우 불러오기\n",
        "import tensorflow as tf \n",
        "\n",
        "# 콜백 클래스 정의 (모델의 정확도가 99% 이상이 되면 멈춤)\n",
        "class myCallback(tf.keras.callbacks.Callback):\n",
        "  def on_epoch_end(self, epoch, logs={}):\n",
        "    if(logs.get('accuracy')>0.99):\n",
        "      print(\"\\nReached 99% accuracy so cancelling training!\")\n",
        "      self.model.stop_training = True\n",
        "\n",
        "# Fasion Mnist에서 데이터 불러오기\n",
        "mnist = tf.keras.datasets.mnist\n",
        "\n",
        "# 변수 선언 : 훈련 세트, 테스트 세트 따로 받고, 딥러닝에서는 모든 수를 0에서 1 사이로 정의해야 학습시키기 편리하기 때문에 모든 input 값을 최댓값인 255로 나눠줌\n",
        "(x_train, y_train),(x_test, y_test) = mnist.load_data()\n",
        "x_train, x_test = x_train / 255.0, x_test / 255.0\n",
        "\n",
        "# 콜백 정의\n",
        "callbacks = myCallback()\n",
        "\n",
        "# 모델 훈련 : 입력층, 은닉층, 출력층으로 구성되어 있음\n",
        "model = tf.keras.models.Sequential([\n",
        "  tf.keras.layers.Flatten(input_shape=(28, 28)), # 28x28 이차원 배열을 784x1로 평평하게 만들어줌\n",
        "  tf.keras.layers.Dense(512, activation=tf.nn.relu), # 은닉층, 이때 뉴런의 갯수는 보통 입력층의 뉴런의 개수 보다 100~ 200 정도 작음\n",
        "  tf.keras.layers.Dense(10, activation=tf.nn.softmax) # 출력층\n",
        "])\n",
        "\n",
        "# 컴파일\n",
        "model.compile(optimizer='adam',\n",
        "              loss='sparse_categorical_crossentropy',\n",
        "              metrics=['accuracy'])\n",
        "\n",
        "# 모델 훈련\n",
        "model.fit(x_train, y_train, epochs=10, callbacks=[callbacks])"
      ],
      "execution_count": 1,
      "outputs": [
        {
          "output_type": "stream",
          "text": [
            "Downloading data from https://storage.googleapis.com/tensorflow/tf-keras-datasets/mnist.npz\n",
            "11493376/11490434 [==============================] - 0s 0us/step\n",
            "Epoch 1/10\n",
            "1875/1875 [==============================] - 7s 3ms/step - loss: 0.2039 - accuracy: 0.9409\n",
            "Epoch 2/10\n",
            "1875/1875 [==============================] - 6s 3ms/step - loss: 0.0824 - accuracy: 0.9747\n",
            "Epoch 3/10\n",
            "1875/1875 [==============================] - 6s 3ms/step - loss: 0.0533 - accuracy: 0.9830\n",
            "Epoch 4/10\n",
            "1875/1875 [==============================] - 6s 3ms/step - loss: 0.0374 - accuracy: 0.9878\n",
            "Epoch 5/10\n",
            "1875/1875 [==============================] - 6s 3ms/step - loss: 0.0258 - accuracy: 0.9915\n",
            "\n",
            "Reached 99% accuracy so cancelling training!\n"
          ],
          "name": "stdout"
        },
        {
          "output_type": "execute_result",
          "data": {
            "text/plain": [
              "<tensorflow.python.keras.callbacks.History at 0x7fe1492ae350>"
            ]
          },
          "metadata": {
            "tags": []
          },
          "execution_count": 1
        }
      ]
    },
    {
      "cell_type": "code",
      "metadata": {
        "id": "0Hb8N2UJMNwx"
      },
      "source": [
        ""
      ],
      "execution_count": null,
      "outputs": []
    }
  ]
}