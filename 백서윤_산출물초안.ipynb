{
  "nbformat": 4,
  "nbformat_minor": 0,
  "metadata": {
    "colab": {
      "name": "백서윤_산출물초안.ipynb",
      "provenance": [],
      "collapsed_sections": [],
      "include_colab_link": true
    },
    "kernelspec": {
      "name": "python3",
      "display_name": "Python 3"
    },
    "language_info": {
      "name": "python"
    }
  },
  "cells": [
    {
      "cell_type": "markdown",
      "metadata": {
        "id": "view-in-github",
        "colab_type": "text"
      },
      "source": [
        "<a href=\"https://colab.research.google.com/github/KoreanAImaster/Tensorflow/blob/main/%EB%B0%B1%EC%84%9C%EC%9C%A4_%EC%82%B0%EC%B6%9C%EB%AC%BC%EC%B4%88%EC%95%88.ipynb\" target=\"_parent\"><img src=\"https://colab.research.google.com/assets/colab-badge.svg\" alt=\"Open In Colab\"/></a>"
      ]
    },
    {
      "cell_type": "code",
      "metadata": {
        "id": "d4P-n0ofteLk"
      },
      "source": [
        "# 모듈 설치\n",
        "!pip3 install selenium\n",
        "!pip3 install tqdm\n",
        "!apt update\n",
        "!apt install chromium-chromedriver"
      ],
      "execution_count": null,
      "outputs": []
    },
    {
      "cell_type": "code",
      "metadata": {
        "id": "FrGTBb-ZuOJz"
      },
      "source": [
        "# 크롤링 : 데이터 수집\n",
        "from selenium import webdriver\n",
        "from bs4 import BeautifulSoup as soups\n",
        "import os\n",
        "from tqdm.auto import trange"
      ],
      "execution_count": null,
      "outputs": []
    },
    {
      "cell_type": "code",
      "metadata": {
        "id": "sAM8oAANrp4W"
      },
      "source": [
        "def search_selenium(search_name, search_path, search_limit) :\n",
        "    search_url = \"https://www.google.com/search?q=\" + str(search_name) + \"&hl=ko&tbm=isch\"\n",
        "    \n",
        "    options = webdriver.ChromeOptions()\n",
        "    options.add_argument(\"--headless\")\n",
        "    options.add_argument(\"--window-size=1920x1080\")\n",
        "    options.add_argument(\"--disable_gpu\")\n",
        "    options.add_argument(\"--disable-dev-shm-usage\")\n",
        "    options.add_argument(\"--no-sandbox\")\n",
        "    browser = webdriver.Chrome(options=options)\n",
        "    browser.get(search_url)\n",
        "    os.makedirs(search_path, exist_ok=True)\n",
        "    image_count = len(browser.find_elements_by_tag_name(\"img\"))\n",
        "    \n",
        "    print(\"로드된 이미지 개수 : \", image_count)\n",
        "\n",
        "    browser.implicitly_wait(2)\n",
        "    directory = search_name.replace(\" \", \"_\")\n",
        "    for i in trange(search_limit) :\n",
        "        image = browser.find_elements_by_tag_name(\"img\")[i]\n",
        "        if not directory in os.listdir(search_path):\n",
        "          os.mkdir(f\"{search_path}/{directory}\")\n",
        "        image.screenshot(f\"{search_path}/{directory}/{i+1}.png\")\n",
        "\n",
        "    browser.close()\n",
        "\n",
        "if __name__ == \"__main__\" :\n",
        "\n",
        "    search_name = input(\"검색하고 싶은 키워드 : \")\n",
        "    search_limit = int(input(\"원하는 이미지 수집 개수 : \"))\n",
        "    search_path = \"/tmp/images\"\n",
        "    # search_maybe(search_name, search_limit, search_path)\n",
        "    search_selenium(search_name, search_path, search_limit)\n"
      ],
      "execution_count": null,
      "outputs": []
    },
    {
      "cell_type": "code",
      "metadata": {
        "id": "eUPAyXcJlFhu"
      },
      "source": [
        "from google.colab import drive\n",
        "drive.mount('/content/drive')"
      ],
      "execution_count": null,
      "outputs": []
    },
    {
      "cell_type": "code",
      "metadata": {
        "id": "qKrdeVUb4jft"
      },
      "source": [
        "#사진들 trainset, testset 분리\n",
        "import random as r\n",
        "import shutil\n",
        "RES_DIR = \"/tmp/images\"\n",
        "AI_DIR = \"/tmp/RefereeAI\"\n",
        "classes = os.listdir(RES_DIR)\n",
        "for dirs in classes:\n",
        "    os.makedirs(f\"{AI_DIR}/trainset/{dirs}\", exist_ok=True)\n",
        "    os.makedirs(f\"{AI_DIR}/dataset/{dirs}\", exist_ok=True)\n",
        "    data = os.listdir(f\"{RES_DIR}/{dirs}\")\n",
        "    trainset = r.sample(data, k=100)\n",
        "    data = [i for i in data if not (i in trainset)]\n",
        "    dataset = r.sample(data, k=100)\n",
        "    for train in trainset:\n",
        "        shutil.copy(f\"{RES_DIR}/{dirs}/{train}\", f\"{AI_DIR}/trainset/{dirs}\")\n",
        "    for test in dataset:\n",
        "        shutil.copy(f\"{RES_DIR}/{dirs}/{test}\", f\"{AI_DIR}/dataset/{dirs}\")"
      ],
      "execution_count": null,
      "outputs": []
    },
    {
      "cell_type": "code",
      "metadata": {
        "id": "LHx_aSrrssgN"
      },
      "source": [
        "from tensorflow.keras.preprocessing.image import ImageDataGenerator\n",
        "\n",
        "TRAINING_DIR = f\"{AI_DIR}/trainset\"\n",
        "train_datagen = ImageDataGenerator(rescale=1.0/255.)\n",
        "train_generator = train_datagen.flow_from_directory(TRAINING_DIR,\n",
        "                                                    batch_size=10,\n",
        "                                                    class_mode='binary',\n",
        "                                                    target_size=(200, 200))\n",
        "\n",
        "VALIDATION_DIR = f\"{AI_DIR}/dataset\"\n",
        "validation_datagen = ImageDataGenerator(rescale=1.0/255.)\n",
        "validation_generator = validation_datagen.flow_from_directory(VALIDATION_DIR,\n",
        "                                                              batch_size=10,\n",
        "                                                              class_mode='binary',\n",
        "                                                              target_size=(200, 200))"
      ],
      "execution_count": null,
      "outputs": []
    },
    {
      "cell_type": "code",
      "metadata": {
        "id": "GuuaFgzXAzTG"
      },
      "source": [
        "# 모델 설계\n",
        "import tensorflow as tf\n",
        "from tensorflow.keras.optimizers import Adam\n",
        "\n",
        "\n",
        "# 컨볼루션 신경망 구축\n",
        "model = tf.keras.models.Sequential([\n",
        "    tf.keras.layers.Conv2D(64, (3, 3), activation='relu', input_shape=(200, 200, 3)),\n",
        "    tf.keras.layers.MaxPooling2D(2, 2),\n",
        "    tf.keras.layers.Conv2D(32, (3, 3), activation='relu'),\n",
        "    tf.keras.layers.MaxPooling2D(2, 2),\n",
        "    tf.keras.layers.Conv2D(16, (3, 3), activation='relu'),\n",
        "    tf.keras.layers.MaxPooling2D(2, 2),\n",
        "    tf.keras.layers.Flatten(),\n",
        "    tf.keras.layers.Dropout(0.2),\n",
        "    tf.keras.layers.Dense(512, activation='leaky_relu'),\n",
        "    tf.keras.layers.Dropout(0.2),\n",
        "    tf.keras.layers.Dense(512, activation='leaky_relu'),\n",
        "    tf.keras.layers.Dense(len(classes), activation='softmax')\n",
        "])\n",
        "\n",
        "model.compile(optimizer=Adam(learning_rate=0.001), loss='sparse_categorical_crossentropy', metrics=['accuracy'])\n",
        "\n",
        "# 모델 학습\n",
        "history = model.fit(train_generator,\n",
        "                              epochs=10,\n",
        "                              verbose=1,\n",
        "                              validation_data=validation_generator)"
      ],
      "execution_count": null,
      "outputs": []
    },
    {
      "cell_type": "code",
      "metadata": {
        "id": "X-nHDzEEA-3I"
      },
      "source": [
        "# 테스트기 : 사진 업로드 하면 파울인지 아닌지 판단\n",
        "\n",
        "\n",
        "import numpy as np\n",
        "from google.colab import files\n",
        "from keras.preprocessing import image\n",
        "\n",
        "uploaded = files.upload()\n",
        "\n",
        "for fn in uploaded.keys():\n",
        "  path = '/content/' + fn\n",
        "  img = image.load_img(path, target_size=(200, 200))\n",
        "  x = image.img_to_array(img)\n",
        "  x = np.expand_dims(x, axis=0)\n",
        "\n",
        "  images = np.vstack([x])\n",
        "  classes = model.predict(images, batch_size=10)\n",
        "  print(classes[0])\n",
        "  if np.any(classes[0]>0.5):\n",
        "    print(fn + \" is not foul\")\n",
        "  else:\n",
        "    print(fn + \" is foul\")"
      ],
      "execution_count": null,
      "outputs": []
    },
    {
      "cell_type": "code",
      "metadata": {
        "id": "MSOTm1crCcsZ"
      },
      "source": [
        ""
      ],
      "execution_count": null,
      "outputs": []
    }
  ]
}